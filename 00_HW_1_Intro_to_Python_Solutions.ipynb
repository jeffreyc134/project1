{
 "cells": [
  {
   "cell_type": "markdown",
   "id": "9b5bf76c",
   "metadata": {},
   "source": [
    "<h1>Lists</h1>"
   ]
  },
  {
   "cell_type": "markdown",
   "id": "0eaa7a8d",
   "metadata": {},
   "source": [
    "<h2>Create a list named <i>food</i> with two elements: <i>\"rice\"</i> and <i>\"potatoes\"</i>.</h2>"
   ]
  },
  {
   "cell_type": "code",
   "execution_count": 13,
   "id": "d45d385f",
   "metadata": {},
   "outputs": [],
   "source": [
    "food = ['rice', 'potatoes']"
   ]
  },
  {
   "cell_type": "markdown",
   "id": "7275f220",
   "metadata": {},
   "source": [
    "<h2>Append the string <i>\"broccoli\"</i> to <i>food</i> using <i>.append()</i>.</h2>"
   ]
  },
  {
   "cell_type": "code",
   "execution_count": 14,
   "id": "02bcf740",
   "metadata": {},
   "outputs": [],
   "source": [
    "food.append('broccoli')"
   ]
  },
  {
   "cell_type": "markdown",
   "id": "d13e6e1b",
   "metadata": {},
   "source": [
    "<h2>Add the strings <i>\"bread\"</i> and <i>\"pizza\"</i> to <i>food</i> using <i>.append()</i>.</h2>"
   ]
  },
  {
   "cell_type": "code",
   "execution_count": 15,
   "id": "0cec1d7f",
   "metadata": {},
   "outputs": [],
   "source": [
    "food.append('bread')\n",
    "food.append('pizza')"
   ]
  },
  {
   "cell_type": "markdown",
   "id": "652201b6",
   "metadata": {},
   "source": [
    "<h2>Print the first two items in the <i>food</i> list using slicing.</h2>"
   ]
  },
  {
   "cell_type": "code",
   "execution_count": 18,
   "id": "a8dd410e",
   "metadata": {},
   "outputs": [
    {
     "name": "stdout",
     "output_type": "stream",
     "text": [
      "['rice', 'potatoes']\n"
     ]
    }
   ],
   "source": [
    "print(food[0:2])"
   ]
  },
  {
   "cell_type": "markdown",
   "id": "8cd28053",
   "metadata": {},
   "source": [
    "<h2>Print the last item in <i>food</i> using indexing.</h2>"
   ]
  },
  {
   "cell_type": "code",
   "execution_count": 19,
   "id": "f633d2e9",
   "metadata": {},
   "outputs": [
    {
     "name": "stdout",
     "output_type": "stream",
     "text": [
      "pizza\n"
     ]
    }
   ],
   "source": [
    "print(food[-1])"
   ]
  },
  {
   "cell_type": "markdown",
   "id": "e722a55d",
   "metadata": {},
   "source": [
    "<h2>Create a list called <i>breakfast</i> from the string <i>\"eggs, fruit, orange juice\"</i> using the <i>.split()</i> method.</h2>"
   ]
  },
  {
   "cell_type": "code",
   "execution_count": 1,
   "id": "274543e5",
   "metadata": {},
   "outputs": [],
   "source": [
    "breakfast = 'eggs, fruit, orange juice'.split(',')"
   ]
  },
  {
   "cell_type": "code",
   "execution_count": 2,
   "id": "0e33a797",
   "metadata": {},
   "outputs": [
    {
     "data": {
      "text/plain": [
       "['eggs', ' fruit', ' orange juice']"
      ]
     },
     "execution_count": 2,
     "metadata": {},
     "output_type": "execute_result"
    }
   ],
   "source": [
    "breakfast"
   ]
  },
  {
   "cell_type": "markdown",
   "id": "e7a971da",
   "metadata": {},
   "source": [
    "<h2>Verify that <i>breakfast</i> has three items and is a list using <i>len()</i> and <i>type()</i></h2>"
   ]
  },
  {
   "cell_type": "code",
   "execution_count": 23,
   "id": "e56ebc36",
   "metadata": {},
   "outputs": [
    {
     "data": {
      "text/plain": [
       "3"
      ]
     },
     "execution_count": 23,
     "metadata": {},
     "output_type": "execute_result"
    }
   ],
   "source": [
    "len(breakfast)"
   ]
  },
  {
   "cell_type": "code",
   "execution_count": 24,
   "id": "92ce3484",
   "metadata": {},
   "outputs": [
    {
     "data": {
      "text/plain": [
       "list"
      ]
     },
     "execution_count": 24,
     "metadata": {},
     "output_type": "execute_result"
    }
   ],
   "source": [
    "type(breakfast)"
   ]
  },
  {
   "cell_type": "markdown",
   "id": "722c9010",
   "metadata": {},
   "source": [
    "<h2>Create a new list called <i>lengths</i> using a list comprehension that contains the lengths of each string in the <i>breakfast</i> list.</h2>"
   ]
  },
  {
   "cell_type": "code",
   "execution_count": 25,
   "id": "275187b4",
   "metadata": {},
   "outputs": [],
   "source": [
    "lengths = [len(item) for item in breakfast]"
   ]
  },
  {
   "cell_type": "code",
   "execution_count": 26,
   "id": "2e75546a",
   "metadata": {},
   "outputs": [
    {
     "data": {
      "text/plain": [
       "[4, 6, 13]"
      ]
     },
     "execution_count": 26,
     "metadata": {},
     "output_type": "execute_result"
    }
   ],
   "source": [
    "lengths"
   ]
  },
  {
   "cell_type": "markdown",
   "id": "4efdc3be",
   "metadata": {},
   "source": [
    "<h1>Dictionaries</h1>"
   ]
  },
  {
   "cell_type": "markdown",
   "id": "f465ecc0",
   "metadata": {},
   "source": [
    "<h2>Create an empty dictionary named <i>dual_class_stock_price</i>.</h2>"
   ]
  },
  {
   "cell_type": "code",
   "execution_count": 27,
   "id": "67f70e26",
   "metadata": {},
   "outputs": [],
   "source": [
    "dual_class_stock_price = {}"
   ]
  },
  {
   "cell_type": "markdown",
   "id": "abd06114",
   "metadata": {},
   "source": [
    "<h2>Using \"square bracket\" notation, enter the following data into the dictionary one item at a time:</h2>\n",
    "\n",
    "<ul>\n",
    "    <li>\"GOOGL\": \"2,952.77\"</li>\n",
    "    <li>\"GOOG\": \"2,962.12\"</li>\n",
    "    <br>\n",
    "    <li>\"BRK.A\": \"428,402.00\"</li>\n",
    "    <li>\"BRK.B\": \"284.52\"</li>\n",
    "    <br>\n",
    "    <li>\"AAC\": \"9.78\"</li>\n",
    "    <li>\"AAC.U\": \"9.98\"</li>\n",
    "    <br>\n",
    "    <li>\"YUM\": \"133.12\"</li>\n",
    "    <li>\"YUMC\": \"51.34\"</li>\n",
    "    <br>\n",
    "    <li>\"HVT\": \"31.12\"</li>\n",
    "    <li>\"HVT.A\": \"31.26\"</li>\n",
    "</ul>"
   ]
  },
  {
   "cell_type": "code",
   "execution_count": 28,
   "id": "ac7f3cbf",
   "metadata": {},
   "outputs": [],
   "source": [
    "dual_class_stock_price['GOOGL'] = '2,952.77'\n",
    "dual_class_stock_price['GOOG'] = '2,962.12'\n",
    "\n",
    "dual_class_stock_price['BRK.A'] = '428,402.00'\n",
    "dual_class_stock_price['BRK.B'] = '284.52'\n",
    "\n",
    "dual_class_stock_price['AAC'] = '9.78'\n",
    "dual_class_stock_price['AAC.U'] = '9.98'\n",
    "\n",
    "dual_class_stock_price['YUM'] = '133.12'\n",
    "dual_class_stock_price['YUMC'] = '52.34'\n",
    "\n",
    "dual_class_stock_price['HVT'] = '31.12'\n",
    "dual_class_stock_price['HVT.A'] = '31.26'"
   ]
  },
  {
   "cell_type": "code",
   "execution_count": 29,
   "id": "f85a4e46",
   "metadata": {},
   "outputs": [
    {
     "data": {
      "text/plain": [
       "{'GOOGL': '2,952.77',\n",
       " 'GOOG': '2,962.12',\n",
       " 'BRK.A': '428,402.00',\n",
       " 'BRK.B': '284.52',\n",
       " 'AAC': '9.78',\n",
       " 'AAC.U': '9.98',\n",
       " 'YUM': '133.12',\n",
       " 'YUMC': '52.34',\n",
       " 'HVT': '31.12',\n",
       " 'HVT.A': '31.26'}"
      ]
     },
     "execution_count": 29,
     "metadata": {},
     "output_type": "execute_result"
    }
   ],
   "source": [
    "dual_class_stock_price"
   ]
  },
  {
   "cell_type": "markdown",
   "id": "b3dd671c",
   "metadata": {},
   "source": [
    "<h2>Write two <i>if</i> statements to check if <i>\"GOOG\"</i> and <i>\"GOOG.A\"</i> exist as keys in the dictionary. Set their values to <i>\"Not a valid ticker\"</i> if the key doesn't exist.</h2>"
   ]
  },
  {
   "cell_type": "code",
   "execution_count": 30,
   "id": "4232c5d8",
   "metadata": {},
   "outputs": [
    {
     "name": "stdout",
     "output_type": "stream",
     "text": [
      "GOOG is a valid ticker.\n",
      "GOOG.A is not a valid ticker.\n"
     ]
    }
   ],
   "source": [
    "if 'GOOG' in dual_class_stock_price.keys():\n",
    "    print('GOOG is a valid ticker.')\n",
    "else:\n",
    "    print('GOOG is not a valid ticker.')\n",
    "    dual_class_stock_price['GOOG'] = 'Not a valid ticker'\n",
    "    \n",
    "if 'GOOG.A' in dual_class_stock_price.keys():\n",
    "    print('GOOG.A a valid ticker.')\n",
    "else:\n",
    "    print('GOOG.A is not a valid ticker.')\n",
    "    dual_class_stock_price['GOOG.A'] = 'Not a valid ticker'"
   ]
  },
  {
   "cell_type": "code",
   "execution_count": 31,
   "id": "73381f99",
   "metadata": {},
   "outputs": [
    {
     "data": {
      "text/plain": [
       "{'GOOGL': '2,952.77',\n",
       " 'GOOG': '2,962.12',\n",
       " 'BRK.A': '428,402.00',\n",
       " 'BRK.B': '284.52',\n",
       " 'AAC': '9.78',\n",
       " 'AAC.U': '9.98',\n",
       " 'YUM': '133.12',\n",
       " 'YUMC': '52.34',\n",
       " 'HVT': '31.12',\n",
       " 'HVT.A': '31.26',\n",
       " 'GOOG.A': 'Not a valid ticker'}"
      ]
     },
     "execution_count": 31,
     "metadata": {},
     "output_type": "execute_result"
    }
   ],
   "source": [
    "dual_class_stock_price"
   ]
  },
  {
   "cell_type": "markdown",
   "id": "e0eb8bc4",
   "metadata": {},
   "source": [
    "<h2>Write a <i>for</i> loop to display the ticker and price contained in the dictionary.</h2>\n",
    "\n",
    "The output should look something like this:\n",
    "\n",
    "<i>Ticker BRK.A had a price of \\$428,402.00.</i>"
   ]
  },
  {
   "cell_type": "code",
   "execution_count": 34,
   "id": "896de6e6",
   "metadata": {},
   "outputs": [
    {
     "name": "stdout",
     "output_type": "stream",
     "text": [
      "==================================================\n",
      "Ticker GOOGL had a price of $2,952.77.\n",
      "==================================================\n",
      "Ticker GOOG had a price of $2,962.12.\n",
      "==================================================\n",
      "Ticker BRK.A had a price of $428,402.00.\n",
      "==================================================\n",
      "Ticker BRK.B had a price of $284.52.\n",
      "==================================================\n",
      "Ticker AAC had a price of $9.78.\n",
      "==================================================\n",
      "Ticker AAC.U had a price of $9.98.\n",
      "==================================================\n",
      "Ticker YUM had a price of $133.12.\n",
      "==================================================\n",
      "Ticker YUMC had a price of $52.34.\n",
      "==================================================\n",
      "Ticker HVT had a price of $31.12.\n",
      "==================================================\n",
      "Ticker HVT.A had a price of $31.26.\n",
      "==================================================\n",
      "Ticker GOOG.A had a price of $Not a valid ticker.\n"
     ]
    }
   ],
   "source": [
    "for ticker in dual_class_stock_price.keys():\n",
    "    print('='*50)\n",
    "    print('Ticker {} had a price of ${}.'.format(ticker,dual_class_stock_price[ticker]))\n",
    "    "
   ]
  },
  {
   "cell_type": "markdown",
   "id": "5a014705",
   "metadata": {},
   "source": [
    "<h1>Iteration</h1>"
   ]
  },
  {
   "cell_type": "markdown",
   "id": "fbe5f2b0",
   "metadata": {},
   "source": [
    "<h2>Write a <i>for</i> loop that prints out the integers 2 through 10, each on a new line, using <i>range()</i></h2>"
   ]
  },
  {
   "cell_type": "code",
   "execution_count": 35,
   "id": "35630722",
   "metadata": {},
   "outputs": [
    {
     "name": "stdout",
     "output_type": "stream",
     "text": [
      "2\n",
      "3\n",
      "4\n",
      "5\n",
      "6\n",
      "7\n",
      "8\n",
      "9\n",
      "10\n"
     ]
    }
   ],
   "source": [
    "for number in range(2,11):\n",
    "    print(number)"
   ]
  },
  {
   "cell_type": "markdown",
   "id": "67246ce7",
   "metadata": {},
   "source": [
    "<h2>Write a <i>while</i> loop that prints out the integers 2 through 10 (you'll need to create a new integer first)</h2>"
   ]
  },
  {
   "cell_type": "code",
   "execution_count": 36,
   "id": "57a4a77b",
   "metadata": {},
   "outputs": [
    {
     "name": "stdout",
     "output_type": "stream",
     "text": [
      "2\n",
      "3\n",
      "4\n",
      "5\n",
      "6\n",
      "7\n",
      "8\n",
      "9\n",
      "10\n"
     ]
    }
   ],
   "source": [
    "number = 2\n",
    "\n",
    "while number <= 10:\n",
    "    print(number)\n",
    "    number = number + 1"
   ]
  },
  {
   "cell_type": "markdown",
   "id": "aa184a60",
   "metadata": {},
   "source": [
    "<h2>Write a function called <i>doubles()</i> that takes a number as its input and doubles it. Then use <i>doubles()</i> in a loop to double the number 2 three times, displaying each result on a separate line.</h2>\n",
    "<br>\n",
    "For example, sample output should look like:\n",
    "<br>\n",
    "4\n",
    "<br>\n",
    "8\n",
    "<br>\n",
    "16\n",
    "<br>"
   ]
  },
  {
   "cell_type": "code",
   "execution_count": 41,
   "id": "af9795a1",
   "metadata": {},
   "outputs": [
    {
     "name": "stdout",
     "output_type": "stream",
     "text": [
      "4\n",
      "8\n",
      "16\n"
     ]
    }
   ],
   "source": [
    "def doubles(number):\n",
    "    return 2*number\n",
    "\n",
    "number = 2\n",
    "for j in range(0,3):\n",
    "    number = doubles(number)  \n",
    "    print(number)"
   ]
  },
  {
   "cell_type": "markdown",
   "id": "46eefe5b",
   "metadata": {},
   "source": [
    "<h2>Track Your Investments</h2>\n",
    "<br>\n",
    "<font size=\"+1\">\n",
    "    <ul>\n",
    "        <li>The goal of this exercise is to write a program that tracks the growing amount of an investment over time.</li>\n",
    "        <br>\n",
    "        <ul>\n",
    "            <li>The inital deposit for an investment is called the principal amount.</li>\n",
    "            <br>\n",
    "            <li>Each year the amount increases by a fixed percentage, called the annual rate of return.</li>\n",
    "            <br>\n",
    "        </ul>\n",
    "        <li>Assume a principal amount of $\\$100,000$ with an annual rate of return of $5\\%$.</li>\n",
    "        <br>\n",
    "        <li>Write a function called <i>invest</i> with three arguments:</li>\n",
    "        <br>\n",
    "        <ul>\n",
    "            <li>the principal amount,</li>\n",
    "            <br>\n",
    "            <li>the annual rate of return,</li>\n",
    "            <br>\n",
    "            <li>the number of years to calculate.</li>\n",
    "            <br>\n",
    "            <li>The function signature could look something like this <i>def invest(amount, rate, years):</i></li>\n",
    "            <br>\n",
    "        </ul>\n",
    "        <li>The function should then print out the amount of the investment, rounded to two decimal places, at the end of each year for the specified number of years.</li>\n",
    "        <br>\n",
    "        <li>For example, calling <i>invest(100, 0.05, 4)</i> should print the following:\n",
    "        <br>\n",
    "        <br>\n",
    "        year 1: \\$105.00\n",
    "        <br>\n",
    "        year 2: \\$110.25\n",
    "        <br>\n",
    "        year 3: \\$115.76\n",
    "        <br>\n",
    "        year 4: \\$121.55\n",
    "        </li>\n",
    "        <br>\n",
    "        <li>Call this function for a principal amount of 200, with an annual rate of return of 9%, over the course of 11 years.</li>\n",
    "        <br>\n",
    "    </ul>\n",
    "</font>"
   ]
  },
  {
   "cell_type": "code",
   "execution_count": 51,
   "id": "d29bda54",
   "metadata": {},
   "outputs": [],
   "source": [
    "def invest(principal, annual_return, number_years):\n",
    "    value = principal\n",
    "    for year in range(1, number_years+1):\n",
    "        value = value + value*annual_return\n",
    "        print('year {}: ${:.2f}'.format(year, round(value, 2)))"
   ]
  },
  {
   "cell_type": "code",
   "execution_count": 52,
   "id": "88d42eb1",
   "metadata": {},
   "outputs": [
    {
     "name": "stdout",
     "output_type": "stream",
     "text": [
      "year 1: $105.00\n",
      "year 2: $110.25\n",
      "year 3: $115.76\n",
      "year 4: $121.55\n"
     ]
    }
   ],
   "source": [
    "invest(100, 0.05, 4)"
   ]
  },
  {
   "cell_type": "code",
   "execution_count": 54,
   "id": "97a8a228",
   "metadata": {},
   "outputs": [
    {
     "name": "stdout",
     "output_type": "stream",
     "text": [
      "year 1: $218.00\n",
      "year 2: $237.62\n",
      "year 3: $259.01\n",
      "year 4: $282.32\n",
      "year 5: $307.72\n",
      "year 6: $335.42\n",
      "year 7: $365.61\n",
      "year 8: $398.51\n",
      "year 9: $434.38\n",
      "year 10: $473.47\n",
      "year 11: $516.09\n"
     ]
    }
   ],
   "source": [
    "invest(200, 0.09, 11)"
   ]
  },
  {
   "cell_type": "markdown",
   "id": "9991e3de",
   "metadata": {},
   "source": [
    "<h1>Control Flow</h1>"
   ]
  },
  {
   "cell_type": "markdown",
   "id": "b4cf90ca",
   "metadata": {},
   "source": [
    "<h2>Write a program that takes a given number and if the number equals 10, then the program should display <i>\"You win!\"</i> and if the number is not 10 then it should display <i>\"I'm sorry, that's the wrong number.\"</i></h2>"
   ]
  },
  {
   "cell_type": "code",
   "execution_count": 59,
   "id": "acbc98ce",
   "metadata": {},
   "outputs": [
    {
     "name": "stdout",
     "output_type": "stream",
     "text": [
      "I'm sorry, that's the wrong number\n"
     ]
    }
   ],
   "source": [
    "number = 11\n",
    "\n",
    "if number == 10:\n",
    "    print('You win!')\n",
    "else:\n",
    "    print('I\\'m sorry, that\\'s the wrong number')"
   ]
  },
  {
   "cell_type": "code",
   "execution_count": 60,
   "id": "5cda03e6",
   "metadata": {},
   "outputs": [],
   "source": [
    "def ten_classifier(number):\n",
    "    if number == 10:\n",
    "        print('You win!')\n",
    "    else:\n",
    "        print('I\\'m sorry, that\\'s the wrong number')\n",
    "    return None"
   ]
  },
  {
   "cell_type": "code",
   "execution_count": 61,
   "id": "5ad55499",
   "metadata": {},
   "outputs": [
    {
     "name": "stdout",
     "output_type": "stream",
     "text": [
      "You win!\n"
     ]
    }
   ],
   "source": [
    "ten_classifier(10)"
   ]
  },
  {
   "cell_type": "markdown",
   "id": "b274b3eb",
   "metadata": {},
   "source": [
    "<h2>Write a program that compares the length of the words <i>\"Product\", \"Data\", \"Sales\"</i> to the number five.</h2>\n",
    "<br>\n",
    "<font size=\"+1\">\n",
    "    <ul>\n",
    "        <li>The program should display one of the following outputs depending on the word:</li>\n",
    "        <br>\n",
    "        <ul>\n",
    "            <li><i>\"This word is less than 5 characters long.\"</i></li>\n",
    "            <li><i>\"This word is more than 5 characters long.\"</i></li>\n",
    "            <li><i>\"This word is 5 characters long.\"</i></li>\n",
    "            <br>\n",
    "        </ul>\n",
    "    </ul>\n",
    "</font>"
   ]
  },
  {
   "cell_type": "code",
   "execution_count": 64,
   "id": "a9740407",
   "metadata": {},
   "outputs": [],
   "source": [
    "words = ['Product', 'Data', 'Sales']\n",
    "\n",
    "def length_of_word(word):\n",
    "    if len(word) == 5:\n",
    "        print('This word is 5 characters long.')\n",
    "    elif len(word) > 5:\n",
    "        print('This word is more than 5 characters long.')\n",
    "    else:\n",
    "        print('This word is less than 5 characters long.')\n",
    "    return None"
   ]
  },
  {
   "cell_type": "code",
   "execution_count": 65,
   "id": "5a2e32ff",
   "metadata": {},
   "outputs": [
    {
     "name": "stdout",
     "output_type": "stream",
     "text": [
      "This word is more than 5 characters long.\n",
      "This word is less than 5 characters long.\n",
      "This word is 5 characters long.\n"
     ]
    }
   ],
   "source": [
    "for word in words:\n",
    "    length_of_word(word)"
   ]
  },
  {
   "cell_type": "markdown",
   "id": "7f472601",
   "metadata": {},
   "source": [
    "<h2>Find the Factors of a Number</h2>\n",
    "<br>\n",
    "<font size=\"+1\">\n",
    "    <ul>\n",
    "        <li>The goal of this exercise is to write a program that finds the factors of a positive whole number.</li>\n",
    "        <br>\n",
    "        <li>A factor of a positive number is any positive number less than or equal to itself that divides the number with no remainder.</li>\n",
    "        <br>\n",
    "        <li>For example, 3 is a factor of 12 because 12 / 3 = 4 with no remainder. However, 5 is not a factor of 12 because 12 / 5 = 2 with a remainder of 2. </li>\n",
    "        <br>\n",
    "        <li>Write a program that takes a positive number and then prints out the factors of that number.</li>\n",
    "        <br>\n",
    "        <li>Sample output for the positive number of 12 should look like:</li>\n",
    "        <br>\n",
    "        <ul>\n",
    "            <li>1 is a factor of 12.</li>\n",
    "            <li>2 is a factor of 12.</li>\n",
    "            <li>3 is a factor of 12.</li>\n",
    "            <li>4 is a factor of 12.</li>\n",
    "            <li>6 is a factor of 12.</li>\n",
    "            <li>12 is a factor of 12.</li>\n",
    "            <br>\n",
    "        </ul>\n",
    "        <li style=\"color:red\">You should use the $\\%$ operator to get the remainder of dividing one number by another.</li>\n",
    "        <br>\n",
    "    </ul>\n",
    "</font>"
   ]
  },
  {
   "cell_type": "code",
   "execution_count": 66,
   "id": "a712a2b0",
   "metadata": {},
   "outputs": [
    {
     "name": "stdout",
     "output_type": "stream",
     "text": [
      "1 is a factor of 12.\n",
      "2 is a factor of 12.\n",
      "3 is a factor of 12.\n",
      "4 is a factor of 12.\n",
      "6 is a factor of 12.\n",
      "12 is a factor of 12.\n"
     ]
    }
   ],
   "source": [
    "number = 12\n",
    "\n",
    "for j in range(1, number+1):\n",
    "    if number % j == 0:\n",
    "        print(f\"{j} is a factor of {number}.\")\n",
    "    else:\n",
    "        continue"
   ]
  },
  {
   "cell_type": "markdown",
   "id": "ac0eb66d",
   "metadata": {},
   "source": [
    "<h1>Functions</h1>\n",
    "<br>\n",
    "<font size=\"+1\" style=\"color:red\">\n",
    "    Be sure to document (comment) your functions!\n",
    "</font>"
   ]
  },
  {
   "cell_type": "markdown",
   "id": "4e178b0b",
   "metadata": {},
   "source": [
    "<h2>Create a function calculates the mean of a list of numbers using only basic arithmetic, not list methods.</h2>"
   ]
  },
  {
   "cell_type": "code",
   "execution_count": 67,
   "id": "2b324b6b",
   "metadata": {},
   "outputs": [
    {
     "data": {
      "text/plain": [
       "True"
      ]
     },
     "execution_count": 67,
     "metadata": {},
     "output_type": "execute_result"
    }
   ],
   "source": [
    "def average(nums):\n",
    "    \"\"\"The input is a list of numbers and the function returns its mean\"\"\"\n",
    "    len_nums = len(nums)\n",
    "    sum_of_nums = 0\n",
    "    for num in nums:\n",
    "        sum_of_nums = sum_of_nums + num\n",
    "    \n",
    "    return (1/len_nums) * sum_of_nums\n",
    "        \n",
    "import numpy as np \n",
    "average([1,2,3,4]) == np.mean([1,2,3,4])"
   ]
  },
  {
   "cell_type": "markdown",
   "id": "d5ad8dfe",
   "metadata": {},
   "source": [
    "<h2>Write a function that returns the first and last elements of a given string in the form of a new string with only two characters. Return a statement if the given string has less than two characters.</h2>"
   ]
  },
  {
   "cell_type": "code",
   "execution_count": 68,
   "id": "4c4d25a1",
   "metadata": {},
   "outputs": [
    {
     "data": {
      "text/plain": [
       "'Ty'"
      ]
     },
     "execution_count": 68,
     "metadata": {},
     "output_type": "execute_result"
    }
   ],
   "source": [
    "def first_last_string(string):\n",
    "    \"\"\"\"The input is a string, and the function returns the first and last element of the string concatenated.\"\"\"\n",
    "    if len(string) >= 2:\n",
    "        new_string = string[0] + string[-1]\n",
    "        return new_string\n",
    "    else: \n",
    "        return print(\"There are less than two characters in the given string.\")\n",
    "    \n",
    "first_last_string('Today')"
   ]
  },
  {
   "cell_type": "code",
   "execution_count": 69,
   "id": "fc4510d9",
   "metadata": {},
   "outputs": [
    {
     "name": "stdout",
     "output_type": "stream",
     "text": [
      "There are less than two characters in the given string.\n"
     ]
    }
   ],
   "source": [
    "first_last_string('y')"
   ]
  },
  {
   "cell_type": "markdown",
   "id": "b5d3819a",
   "metadata": {},
   "source": [
    "<h2>Convert Temperatures</h2>\n",
    "<br>\n",
    "<font size=\"+1\">\n",
    "    <ul>\n",
    "        <li>The goal of this exercise is to write a program that defines two functions:</li>\n",
    "        <br>\n",
    "        <ul>\n",
    "            <li><i>convert_celsius_to_fahrenheit()</i> that takes one <i>float</i> argument representing degrees Celsius and returns a <i>float</i> representing the same temperature in degrees Fahrenheit using the formula\n",
    "            $$\n",
    "            F = C \\times \\frac{9}{5} + 32,\n",
    "            $$</li>\n",
    "            <br>\n",
    "            <li><i>convert_fahrenheit_to_celsius()</i> that takes one <i>float</i> argument that represents degrees Fahrenheit and returns a <i>float</i> representing the same temperature in degrees Celsius using the formula\n",
    "            $$\n",
    "            C = (F-32) \\times \\frac{5}{9}.\n",
    "            $$</li>\n",
    "            <br>\n",
    "        </ul>\n",
    "        <li>The program should display all converted temperatures rounded to two decimal places.</li>\n",
    "        <br>\n",
    "        <li>The program should be able to run the following:</li>\n",
    "        <br>\n",
    "        <ul>\n",
    "            <li><i>convert_celsius_to_fahrenheit(37)</i> should return <i>37 degrees C = 98.60 degrees F</i></li>\n",
    "            <br>\n",
    "            <li><i>convert_fahrenheit_to_celsius(72)</i> should return <i>72 degrees F = 22.22 degrees C</i></li>\n",
    "            <br>\n",
    "        </ul>\n",
    "    </ul>\n",
    "</font>"
   ]
  },
  {
   "cell_type": "code",
   "execution_count": 72,
   "id": "3eccdea4",
   "metadata": {},
   "outputs": [],
   "source": [
    "def convert_celsius_to_fahrenheit(celsius):\n",
    "    '''Convert celsius to fahrenheit.'''\n",
    "    fahrenheit = celsius*(9/5) + 32\n",
    "    return print('{} degrees C = {:.2f} degrees F.'.format(celsius, round(fahrenheit, 2)))\n",
    "\n",
    "def convert_fahrenheit_to_celsius(fahrenheit):\n",
    "    '''Convert fahrenheit to celsius.'''\n",
    "    celsius = (fahrenheit - 32)*(5/9)\n",
    "    return print('{} degrees F = {:.2f} degrees C.'.format(fahrenheit, round(celsius, 2)))"
   ]
  },
  {
   "cell_type": "code",
   "execution_count": 73,
   "id": "34007f1e",
   "metadata": {},
   "outputs": [
    {
     "name": "stdout",
     "output_type": "stream",
     "text": [
      "37 degrees C = 98.60 degrees F.\n"
     ]
    }
   ],
   "source": [
    "convert_celsius_to_fahrenheit(37)"
   ]
  },
  {
   "cell_type": "code",
   "execution_count": 74,
   "id": "474afc18",
   "metadata": {},
   "outputs": [
    {
     "name": "stdout",
     "output_type": "stream",
     "text": [
      "72 degrees F = 22.22 degrees C.\n"
     ]
    }
   ],
   "source": [
    "convert_fahrenheit_to_celsius(72)"
   ]
  },
  {
   "cell_type": "code",
   "execution_count": null,
   "id": "f99abd4d",
   "metadata": {},
   "outputs": [],
   "source": []
  }
 ],
 "metadata": {
  "hide_input": false,
  "kernelspec": {
   "display_name": "Python 3 (ipykernel)",
   "language": "python",
   "name": "python3"
  },
  "language_info": {
   "codemirror_mode": {
    "name": "ipython",
    "version": 3
   },
   "file_extension": ".py",
   "mimetype": "text/x-python",
   "name": "python",
   "nbconvert_exporter": "python",
   "pygments_lexer": "ipython3",
   "version": "3.9.7"
  },
  "toc": {
   "base_numbering": 1,
   "nav_menu": {},
   "number_sections": true,
   "sideBar": true,
   "skip_h1_title": false,
   "title_cell": "Table of Contents",
   "title_sidebar": "Contents",
   "toc_cell": false,
   "toc_position": {
    "height": "calc(100% - 180px)",
    "left": "10px",
    "top": "150px",
    "width": "284.427px"
   },
   "toc_section_display": true,
   "toc_window_display": true
  }
 },
 "nbformat": 4,
 "nbformat_minor": 5
}
